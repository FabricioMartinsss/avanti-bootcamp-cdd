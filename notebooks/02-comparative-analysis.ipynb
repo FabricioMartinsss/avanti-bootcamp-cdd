{
 "cells": [
  {
   "cell_type": "markdown",
   "id": "4ab5000c-0156-4484-ba2b-f40ea6187414",
   "metadata": {},
   "source": [
    "# Análise Comparativa de Modelos"
   ]
  },
  {
   "cell_type": "code",
   "execution_count": 1,
   "id": "326aa961-19d9-4311-8f09-2ee04e1a8e8c",
   "metadata": {
    "tags": []
   },
   "outputs": [],
   "source": [
    "import pandas as pd\n",
    "import numpy as np\n",
    "from sklearn.model_selection import train_test_split\n",
    "from sklearn.preprocessing import LabelEncoder, StandardScaler\n",
    "from sklearn.impute import SimpleImputer\n",
    "from sklearn.pipeline import Pipeline\n",
    "from sklearn.compose import ColumnTransformer\n",
    "from sklearn.linear_model import LogisticRegression\n",
    "from sklearn.preprocessing import OneHotEncoder\n",
    "from sklearn.compose import ColumnTransformer"
   ]
  },
  {
   "cell_type": "markdown",
   "id": "e7db9916-49f7-4099-87df-d750c9acc31b",
   "metadata": {},
   "source": [
    "## 1. Obtenção de Dados"
   ]
  },
  {
   "cell_type": "markdown",
   "id": "ac862fab-8550-44b1-a8c0-982ae92ab88e",
   "metadata": {},
   "source": [
    "#### Nessa etapa obtemos novamente os arquivos brutos de dados e o dicionário antes de iniciar o pre-processamento."
   ]
  },
  {
   "cell_type": "code",
   "execution_count": 2,
   "id": "8614ca34-74e3-4b56-bf58-34d8bbadd190",
   "metadata": {
    "tags": []
   },
   "outputs": [
    {
     "data": {
      "text/html": [
       "<div>\n",
       "<style scoped>\n",
       "    .dataframe tbody tr th:only-of-type {\n",
       "        vertical-align: middle;\n",
       "    }\n",
       "\n",
       "    .dataframe tbody tr th {\n",
       "        vertical-align: top;\n",
       "    }\n",
       "\n",
       "    .dataframe thead th {\n",
       "        text-align: right;\n",
       "    }\n",
       "</style>\n",
       "<table border=\"1\" class=\"dataframe\">\n",
       "  <thead>\n",
       "    <tr style=\"text-align: right;\">\n",
       "      <th></th>\n",
       "      <th>variavel</th>\n",
       "      <th>descricao</th>\n",
       "      <th>tipo</th>\n",
       "      <th>subtipo</th>\n",
       "    </tr>\n",
       "  </thead>\n",
       "  <tbody>\n",
       "    <tr>\n",
       "      <th>0</th>\n",
       "      <td>survived</td>\n",
       "      <td>se o individuo esta vivo ou morto</td>\n",
       "      <td>qualitativa</td>\n",
       "      <td>nominal</td>\n",
       "    </tr>\n",
       "    <tr>\n",
       "      <th>1</th>\n",
       "      <td>pclass</td>\n",
       "      <td>Classe de ingresso</td>\n",
       "      <td>qualitativa</td>\n",
       "      <td>ordinal</td>\n",
       "    </tr>\n",
       "    <tr>\n",
       "      <th>2</th>\n",
       "      <td>sex</td>\n",
       "      <td>sexo</td>\n",
       "      <td>qualitativa</td>\n",
       "      <td>nominal</td>\n",
       "    </tr>\n",
       "    <tr>\n",
       "      <th>3</th>\n",
       "      <td>age</td>\n",
       "      <td>idade em anos</td>\n",
       "      <td>quantitativa</td>\n",
       "      <td>discreta</td>\n",
       "    </tr>\n",
       "    <tr>\n",
       "      <th>4</th>\n",
       "      <td>sibsp</td>\n",
       "      <td># de irmãos/cônjuges a bordo do Titanic</td>\n",
       "      <td>quantitativa</td>\n",
       "      <td>discreta</td>\n",
       "    </tr>\n",
       "    <tr>\n",
       "      <th>5</th>\n",
       "      <td>parch</td>\n",
       "      <td># de pais/crianças a bordo do Titanic, 0 para ...</td>\n",
       "      <td>quantitativa</td>\n",
       "      <td>discreta</td>\n",
       "    </tr>\n",
       "    <tr>\n",
       "      <th>6</th>\n",
       "      <td>fare</td>\n",
       "      <td>Tarifa de passageiro</td>\n",
       "      <td>quantitativa</td>\n",
       "      <td>continua</td>\n",
       "    </tr>\n",
       "    <tr>\n",
       "      <th>7</th>\n",
       "      <td>embarked</td>\n",
       "      <td>Ponto de embarcacao</td>\n",
       "      <td>qualitativa</td>\n",
       "      <td>nominal</td>\n",
       "    </tr>\n",
       "    <tr>\n",
       "      <th>8</th>\n",
       "      <td>class</td>\n",
       "      <td>Se refere a classe social ou categoria que os ...</td>\n",
       "      <td>qualitativa</td>\n",
       "      <td>ordinal</td>\n",
       "    </tr>\n",
       "    <tr>\n",
       "      <th>9</th>\n",
       "      <td>who</td>\n",
       "      <td>informacao do genero (desnecessaria pois ja te...</td>\n",
       "      <td>qualitativa</td>\n",
       "      <td>nominal</td>\n",
       "    </tr>\n",
       "    <tr>\n",
       "      <th>10</th>\n",
       "      <td>adult_male</td>\n",
       "      <td>Homem adulto</td>\n",
       "      <td>qualitativa</td>\n",
       "      <td>nominal</td>\n",
       "    </tr>\n",
       "    <tr>\n",
       "      <th>11</th>\n",
       "      <td>deck</td>\n",
       "      <td>conves onde os passageiros ficavam alojados</td>\n",
       "      <td>qualitativa</td>\n",
       "      <td>nominal</td>\n",
       "    </tr>\n",
       "    <tr>\n",
       "      <th>12</th>\n",
       "      <td>embarked_towm</td>\n",
       "      <td>cidade que cada individuo embarcou no navio(pr...</td>\n",
       "      <td>qualitativa</td>\n",
       "      <td>nominal</td>\n",
       "    </tr>\n",
       "    <tr>\n",
       "      <th>13</th>\n",
       "      <td>alive</td>\n",
       "      <td>Se o passageiro sobreviveu ao naufragio(provav...</td>\n",
       "      <td>qualitativa</td>\n",
       "      <td>nominal</td>\n",
       "    </tr>\n",
       "    <tr>\n",
       "      <th>14</th>\n",
       "      <td>alone</td>\n",
       "      <td>Se o passageiro viajava sozinho</td>\n",
       "      <td>qualitativa</td>\n",
       "      <td>nominal</td>\n",
       "    </tr>\n",
       "  </tbody>\n",
       "</table>\n",
       "</div>"
      ],
      "text/plain": [
       "         variavel                                          descricao  \\\n",
       "0        survived                  se o individuo esta vivo ou morto   \n",
       "1          pclass                                 Classe de ingresso   \n",
       "2             sex                                               sexo   \n",
       "3             age                                      idade em anos   \n",
       "4           sibsp            # de irmãos/cônjuges a bordo do Titanic   \n",
       "5           parch  # de pais/crianças a bordo do Titanic, 0 para ...   \n",
       "6            fare                               Tarifa de passageiro   \n",
       "7        embarked                                Ponto de embarcacao   \n",
       "8           class  Se refere a classe social ou categoria que os ...   \n",
       "9             who  informacao do genero (desnecessaria pois ja te...   \n",
       "10     adult_male                                       Homem adulto   \n",
       "11           deck        conves onde os passageiros ficavam alojados   \n",
       "12  embarked_towm  cidade que cada individuo embarcou no navio(pr...   \n",
       "13          alive  Se o passageiro sobreviveu ao naufragio(provav...   \n",
       "14          alone                    Se o passageiro viajava sozinho   \n",
       "\n",
       "            tipo   subtipo  \n",
       "0    qualitativa   nominal  \n",
       "1    qualitativa   ordinal  \n",
       "2    qualitativa   nominal  \n",
       "3   quantitativa  discreta  \n",
       "4   quantitativa  discreta  \n",
       "5   quantitativa  discreta  \n",
       "6   quantitativa  continua  \n",
       "7    qualitativa   nominal  \n",
       "8    qualitativa   ordinal  \n",
       "9    qualitativa   nominal  \n",
       "10   qualitativa   nominal  \n",
       "11   qualitativa   nominal  \n",
       "12   qualitativa   nominal  \n",
       "13   qualitativa   nominal  \n",
       "14   qualitativa   nominal  "
      ]
     },
     "execution_count": 2,
     "metadata": {},
     "output_type": "execute_result"
    }
   ],
   "source": [
    "df = pd.read_csv(\"../data/raw/data.csv\")\n",
    "df_dict = pd.read_csv(\"../data/external/dictionary.csv\")\n",
    "df_dict"
   ]
  },
  {
   "cell_type": "markdown",
   "id": "2e7b7aa6-ef9d-4df6-8173-50c50698dcc8",
   "metadata": {},
   "source": [
    "---"
   ]
  },
  {
   "cell_type": "markdown",
   "id": "3deda871-3aa7-404a-be9a-fd356f2f4a43",
   "metadata": {},
   "source": [
    "## 2. Preparação de dados"
   ]
  },
  {
   "cell_type": "markdown",
   "id": "fa931ec1-6358-44d5-9764-192006fdf1be",
   "metadata": {},
   "source": [
    "### 2.1 Imputando Valores"
   ]
  },
  {
   "cell_type": "code",
   "execution_count": 3,
   "id": "6d2f5f4d-554d-441b-bf77-f5817356d18c",
   "metadata": {
    "tags": []
   },
   "outputs": [],
   "source": [
    "df['age'].fillna(df['age'].median(), inplace=True)\n",
    "df['embarked'].fillna(df['embarked'].mode()[0], inplace=True)\n",
    "df['embark_town'].fillna(df['embark_town'].mode()[0], inplace=True)"
   ]
  },
  {
   "cell_type": "markdown",
   "id": "d2fb96e3-e705-4a2d-9abd-599b839c4176",
   "metadata": {},
   "source": [
    "---"
   ]
  },
  {
   "cell_type": "markdown",
   "id": "0dea3931-5c07-4f76-8ce4-bc1d8bf2897c",
   "metadata": {},
   "source": [
    "### 2.2 Removendo Variáveis Desnecessárias "
   ]
  },
  {
   "cell_type": "code",
   "execution_count": 4,
   "id": "6fa24b20-0586-4923-b34c-04033be36607",
   "metadata": {
    "tags": []
   },
   "outputs": [],
   "source": [
    "df.drop(columns=['alive', 'embarked', 'class', 'deck', 'who'], inplace=True)"
   ]
  },
  {
   "cell_type": "markdown",
   "id": "6c4e71d2-0cc5-43e3-9bf2-2d347b3e4487",
   "metadata": {},
   "source": [
    "##### A remoção da variável `who`, `deck`, `alive`, `embarked` e `class` ocorreram pois alive, embarked, class e who causam redundância e deck tem excesso de valores faltantes."
   ]
  },
  {
   "cell_type": "markdown",
   "id": "e61aed6a-a1dd-4237-9a58-766fa3232438",
   "metadata": {},
   "source": [
    "### 2.3 Tratamento de dados discrepantes"
   ]
  },
  {
   "cell_type": "code",
   "execution_count": 5,
   "id": "d7accea5-f047-4ded-92d6-687da340ec7d",
   "metadata": {
    "tags": []
   },
   "outputs": [],
   "source": [
    "Q1 = df['fare'].quantile(0.25)\n",
    "Q3 = df['fare'].quantile(0.75)\n",
    "IQR = Q3 - Q1\n",
    "lower_bound = Q1 - 1.5 * IQR\n",
    "upper_bound = Q3 + 1.5 * IQR\n",
    "df['fare'] = df['fare'].clip(lower=lower_bound, upper=upper_bound)"
   ]
  },
  {
   "cell_type": "markdown",
   "id": "c90caf41-ce92-45d6-8bfc-0f7c63d370da",
   "metadata": {},
   "source": [
    "---"
   ]
  },
  {
   "cell_type": "markdown",
   "id": "f872e0aa-4ef8-4cc1-a49c-8046834194ec",
   "metadata": {
    "tags": []
   },
   "source": [
    "### 2.4 Normalização"
   ]
  },
  {
   "cell_type": "code",
   "execution_count": 6,
   "id": "23417bf7-56c3-428a-bbd2-218a4a0256a6",
   "metadata": {
    "tags": []
   },
   "outputs": [],
   "source": [
    "# Definir as variáveis numéricas\n",
    "numerical_features = ['age', 'sibsp', 'parch', 'fare']\n",
    "\n",
    "# Criar um pipeline para pré-processamento das variáveis numéricas\n",
    "numerical_pipeline = Pipeline(steps=[\n",
    "    ('scaler', StandardScaler())  # Normalizar os dados para ter média 0 e desvio padrão 1\n",
    "])\n",
    "\n",
    "# Aplicar a normalização às variáveis numéricas\n",
    "X_numerical_processed = numerical_pipeline.fit_transform(df[numerical_features])"
   ]
  },
  {
   "cell_type": "markdown",
   "id": "f401b985-80b1-4ec6-9454-82eaaa66d38c",
   "metadata": {},
   "source": [
    "##### A normalização dos dados foi realizada para garantir que todas as variáveis numéricas tivessem a mesma escala e, assim, fossem comparáveis entre si. Utilizou-se o StandardScaler do `scikit-learn`, que transformou as variáveis numéricas `age`, `sibsp`, `parch` e `fare` para que tivessem média 0 e desvio padrão 1. Essa etapa é crucial para que as variáveis contribuem igualmente durante o treinamento de modelos de aprendizado de máquina."
   ]
  },
  {
   "cell_type": "markdown",
   "id": "7ecf9a79-279b-475b-ae3a-314e27569d47",
   "metadata": {},
   "source": [
    "---"
   ]
  },
  {
   "cell_type": "markdown",
   "id": "68b8fdca-f648-494d-a156-76876762eff4",
   "metadata": {
    "tags": []
   },
   "source": [
    "### 2.5 Codificação"
   ]
  },
  {
   "cell_type": "code",
   "execution_count": 10,
   "id": "09dd53fb-43e6-4874-b519-fa739a06b9a4",
   "metadata": {
    "tags": []
   },
   "outputs": [],
   "source": [
    "# Definir as variáveis categóricas e ordinais\n",
    "categorical_features = ['sex', 'embark_town', 'adult_male', 'alone']\n",
    "ordinal_features = ['pclass']\n",
    "\n",
    "# Criar um pipeline para pré-processamento das variáveis categóricas\n",
    "categorical_pipeline = Pipeline(steps=[\n",
    "    ('onehot', OneHotEncoder(handle_unknown='ignore'))  # Codificar as variáveis categóricas com one-hot encoding\n",
    "])\n",
    "\n",
    "# Criar um preprocessor para aplicar as transformações às variáveis\n",
    "preprocessor = ColumnTransformer(\n",
    "    transformers=[\n",
    "        ('cat', categorical_pipeline, categorical_features),\n",
    "        ('ord', 'passthrough', ordinal_features)  # Manter as variáveis ordinais como estão\n",
    "    ]\n",
    ")\n",
    "\n",
    "# Aplicar a codificação às variáveis categóricas e ordinais\n",
    "X_categorical_processed = preprocessor.fit_transform(df)"
   ]
  },
  {
   "cell_type": "markdown",
   "id": "286dd809-cb53-4a89-a8ed-e1db97e555b8",
   "metadata": {},
   "source": [
    "##### Para preparar as variáveis categóricas e ordinais para o modelo, foi aplicada a codificação. As variáveis categóricas, como `sex`, `adult_male` e `alone`, foram transformadas utilizando o `OneHotEncoder` do `scikit-learn`, que converteu cada categoria em múltiplas colunas binárias, permitindo que o modelo interprete cada categoria de forma adequada. Já as variáveis ordinais, como `pclass`, foram mantidas em sua forma original com o uso do `'passthrough'`, preservando a ordem natural dos valores. Essas transformações asseguram que o modelo possa processar todas as variáveis corretamente.\n"
   ]
  },
  {
   "cell_type": "markdown",
   "id": "906ec449-5945-49aa-bfc7-4a10def5bf93",
   "metadata": {
    "tags": []
   },
   "source": [
    "---"
   ]
  },
  {
   "cell_type": "code",
   "execution_count": null,
   "id": "dfbe6a76-4b33-43b9-b621-dee87e27d58b",
   "metadata": {
    "tags": []
   },
   "outputs": [],
   "source": []
  },
  {
   "cell_type": "code",
   "execution_count": null,
   "id": "cb852f0e-bd9c-4b60-84fd-3442e6a85926",
   "metadata": {},
   "outputs": [],
   "source": []
  }
 ],
 "metadata": {
  "kernelspec": {
   "display_name": "Python 3 (ipykernel)",
   "language": "python",
   "name": "python3"
  },
  "language_info": {
   "codemirror_mode": {
    "name": "ipython",
    "version": 3
   },
   "file_extension": ".py",
   "mimetype": "text/x-python",
   "name": "python",
   "nbconvert_exporter": "python",
   "pygments_lexer": "ipython3",
   "version": "3.10.11"
  }
 },
 "nbformat": 4,
 "nbformat_minor": 5
}
