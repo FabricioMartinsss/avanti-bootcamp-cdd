{
 "cells": [
  {
   "cell_type": "markdown",
   "id": "4ab5000c-0156-4484-ba2b-f40ea6187414",
   "metadata": {},
   "source": [
    "# Análise Comparativa de Modelos"
   ]
  },
  {
   "cell_type": "code",
   "execution_count": 1,
   "id": "326aa961-19d9-4311-8f09-2ee04e1a8e8c",
   "metadata": {
    "tags": []
   },
   "outputs": [],
   "source": [
    "from IPython.display import display, Markdown\n",
    "import joblib\n",
    "import numpy as np\n",
    "import pandas as pd\n",
    "\n",
    "from sklearn.pipeline import Pipeline\n",
    "from sklearn.impute import SimpleImputer\n",
    "from sklearn.preprocessing import StandardScaler, MinMaxScaler, OneHotEncoder, OrdinalEncoder, LabelEncoder\n",
    "from sklearn.compose import ColumnTransformer\n",
    "from sklearn.linear_model import LogisticRegression\n",
    "\n",
    "from sklearn.neighbors import KNeighborsClassifier\n",
    "from sklearn.model_selection import ShuffleSplit, GridSearchCV, KFold, cross_validate\n",
    "from sklearn.svm import SVC\n",
    "from sklearn.tree import DecisionTreeClassifier\n",
    "from sklearn.ensemble import RandomForestClassifier\n",
    "from sklearn.ensemble import GradientBoostingClassifier, RandomForestClassifier"
   ]
  },
  {
   "cell_type": "markdown",
   "id": "e7db9916-49f7-4099-87df-d750c9acc31b",
   "metadata": {},
   "source": [
    "## 1. Obtenção de Dados"
   ]
  },
  {
   "cell_type": "markdown",
   "id": "ac862fab-8550-44b1-a8c0-982ae92ab88e",
   "metadata": {},
   "source": [
    "#### Nessa etapa obtemos novamente os arquivos brutos de dados e o dicionário antes de iniciar o pre-processamento."
   ]
  },
  {
   "cell_type": "code",
   "execution_count": 2,
   "id": "8614ca34-74e3-4b56-bf58-34d8bbadd190",
   "metadata": {
    "tags": []
   },
   "outputs": [
    {
     "data": {
      "text/html": [
       "<div>\n",
       "<style scoped>\n",
       "    .dataframe tbody tr th:only-of-type {\n",
       "        vertical-align: middle;\n",
       "    }\n",
       "\n",
       "    .dataframe tbody tr th {\n",
       "        vertical-align: top;\n",
       "    }\n",
       "\n",
       "    .dataframe thead th {\n",
       "        text-align: right;\n",
       "    }\n",
       "</style>\n",
       "<table border=\"1\" class=\"dataframe\">\n",
       "  <thead>\n",
       "    <tr style=\"text-align: right;\">\n",
       "      <th></th>\n",
       "      <th>variavel</th>\n",
       "      <th>descricao</th>\n",
       "      <th>tipo</th>\n",
       "      <th>subtipo</th>\n",
       "    </tr>\n",
       "  </thead>\n",
       "  <tbody>\n",
       "    <tr>\n",
       "      <th>0</th>\n",
       "      <td>survived</td>\n",
       "      <td>se o individuo esta vivo ou morto</td>\n",
       "      <td>qualitativa</td>\n",
       "      <td>nominal</td>\n",
       "    </tr>\n",
       "    <tr>\n",
       "      <th>1</th>\n",
       "      <td>pclass</td>\n",
       "      <td>Classe de ingresso</td>\n",
       "      <td>qualitativa</td>\n",
       "      <td>ordinal</td>\n",
       "    </tr>\n",
       "    <tr>\n",
       "      <th>2</th>\n",
       "      <td>sex</td>\n",
       "      <td>sexo</td>\n",
       "      <td>qualitativa</td>\n",
       "      <td>nominal</td>\n",
       "    </tr>\n",
       "    <tr>\n",
       "      <th>3</th>\n",
       "      <td>age</td>\n",
       "      <td>idade em anos</td>\n",
       "      <td>quantitativa</td>\n",
       "      <td>discreta</td>\n",
       "    </tr>\n",
       "    <tr>\n",
       "      <th>4</th>\n",
       "      <td>sibsp</td>\n",
       "      <td># de irmãos/cônjuges a bordo do Titanic</td>\n",
       "      <td>quantitativa</td>\n",
       "      <td>discreta</td>\n",
       "    </tr>\n",
       "    <tr>\n",
       "      <th>5</th>\n",
       "      <td>parch</td>\n",
       "      <td># de pais/crianças a bordo do Titanic, 0 para ...</td>\n",
       "      <td>quantitativa</td>\n",
       "      <td>discreta</td>\n",
       "    </tr>\n",
       "    <tr>\n",
       "      <th>6</th>\n",
       "      <td>fare</td>\n",
       "      <td>Tarifa de passageiro</td>\n",
       "      <td>quantitativa</td>\n",
       "      <td>continua</td>\n",
       "    </tr>\n",
       "    <tr>\n",
       "      <th>7</th>\n",
       "      <td>embarked</td>\n",
       "      <td>Ponto de embarcacao</td>\n",
       "      <td>qualitativa</td>\n",
       "      <td>nominal</td>\n",
       "    </tr>\n",
       "    <tr>\n",
       "      <th>8</th>\n",
       "      <td>class</td>\n",
       "      <td>Se refere a classe social ou categoria que os ...</td>\n",
       "      <td>qualitativa</td>\n",
       "      <td>ordinal</td>\n",
       "    </tr>\n",
       "    <tr>\n",
       "      <th>9</th>\n",
       "      <td>who</td>\n",
       "      <td>informacao do genero (desnecessaria pois ja te...</td>\n",
       "      <td>qualitativa</td>\n",
       "      <td>nominal</td>\n",
       "    </tr>\n",
       "    <tr>\n",
       "      <th>10</th>\n",
       "      <td>adult_male</td>\n",
       "      <td>Homem adulto</td>\n",
       "      <td>qualitativa</td>\n",
       "      <td>nominal</td>\n",
       "    </tr>\n",
       "    <tr>\n",
       "      <th>11</th>\n",
       "      <td>deck</td>\n",
       "      <td>conves onde os passageiros ficavam alojados</td>\n",
       "      <td>qualitativa</td>\n",
       "      <td>nominal</td>\n",
       "    </tr>\n",
       "    <tr>\n",
       "      <th>12</th>\n",
       "      <td>embark_town</td>\n",
       "      <td>cidade que cada individuo embarcou no navio(pr...</td>\n",
       "      <td>qualitativa</td>\n",
       "      <td>nominal</td>\n",
       "    </tr>\n",
       "    <tr>\n",
       "      <th>13</th>\n",
       "      <td>alive</td>\n",
       "      <td>Se o passageiro sobreviveu ao naufragio(provav...</td>\n",
       "      <td>qualitativa</td>\n",
       "      <td>nominal</td>\n",
       "    </tr>\n",
       "    <tr>\n",
       "      <th>14</th>\n",
       "      <td>alone</td>\n",
       "      <td>Se o passageiro viajava sozinho</td>\n",
       "      <td>qualitativa</td>\n",
       "      <td>nominal</td>\n",
       "    </tr>\n",
       "  </tbody>\n",
       "</table>\n",
       "</div>"
      ],
      "text/plain": [
       "       variavel                                          descricao  \\\n",
       "0      survived                  se o individuo esta vivo ou morto   \n",
       "1        pclass                                 Classe de ingresso   \n",
       "2           sex                                               sexo   \n",
       "3           age                                      idade em anos   \n",
       "4         sibsp            # de irmãos/cônjuges a bordo do Titanic   \n",
       "5         parch  # de pais/crianças a bordo do Titanic, 0 para ...   \n",
       "6          fare                               Tarifa de passageiro   \n",
       "7      embarked                                Ponto de embarcacao   \n",
       "8         class  Se refere a classe social ou categoria que os ...   \n",
       "9           who  informacao do genero (desnecessaria pois ja te...   \n",
       "10   adult_male                                       Homem adulto   \n",
       "11         deck        conves onde os passageiros ficavam alojados   \n",
       "12  embark_town  cidade que cada individuo embarcou no navio(pr...   \n",
       "13        alive  Se o passageiro sobreviveu ao naufragio(provav...   \n",
       "14        alone                    Se o passageiro viajava sozinho   \n",
       "\n",
       "            tipo   subtipo  \n",
       "0    qualitativa   nominal  \n",
       "1    qualitativa   ordinal  \n",
       "2    qualitativa   nominal  \n",
       "3   quantitativa  discreta  \n",
       "4   quantitativa  discreta  \n",
       "5   quantitativa  discreta  \n",
       "6   quantitativa  continua  \n",
       "7    qualitativa   nominal  \n",
       "8    qualitativa   ordinal  \n",
       "9    qualitativa   nominal  \n",
       "10   qualitativa   nominal  \n",
       "11   qualitativa   nominal  \n",
       "12   qualitativa   nominal  \n",
       "13   qualitativa   nominal  \n",
       "14   qualitativa   nominal  "
      ]
     },
     "execution_count": 2,
     "metadata": {},
     "output_type": "execute_result"
    }
   ],
   "source": [
    "df = pd.read_csv(\"../data/raw/data.csv\")\n",
    "df_dict = pd.read_csv(\"../data/external/dictionary.csv\")\n",
    "df_dict"
   ]
  },
  {
   "cell_type": "markdown",
   "id": "2e7b7aa6-ef9d-4df6-8173-50c50698dcc8",
   "metadata": {},
   "source": [
    "---"
   ]
  },
  {
   "cell_type": "markdown",
   "id": "3deda871-3aa7-404a-be9a-fd356f2f4a43",
   "metadata": {},
   "source": [
    "## 2. Preparação de dados"
   ]
  },
  {
   "cell_type": "code",
   "execution_count": 3,
   "id": "f331d715-9d61-40b4-a2f5-84ebb2558263",
   "metadata": {
    "tags": []
   },
   "outputs": [],
   "source": [
    "# Remover as colunas indesejadas\n",
    "columns_to_remove = ['who', 'deck', 'alive', 'embarked', 'class']\n",
    "df = df.drop(columns=columns_to_remove, axis=1)\n",
    "\n",
    "# Atualizar o dicionário de variáveis se necessário\n",
    "# Por exemplo, se o df_dict tiver informações sobre as colunas removidas, você pode removê-las também\n",
    "df_dict = df_dict[~df_dict['variavel'].isin(columns_to_remove)]\n",
    "\n",
    "target_column = 'survived'\n",
    "\n",
    "nominal_columns = (\n",
    "    df_dict\n",
    "    .query(\"subtipo == 'nominal' and variavel != @target_column\")\n",
    "    .variavel\n",
    "    .tolist()\n",
    ")\n",
    "\n",
    "ordinal_columns = (\n",
    "    df_dict\n",
    "    .query(\"subtipo == 'ordinal'\")\n",
    "    .variavel\n",
    "    .tolist()\n",
    ")\n",
    "\n",
    "discrete_columns = (\n",
    "    df_dict\n",
    "    .query(\"subtipo == 'discreta'\")\n",
    "    .variavel\n",
    "    .tolist()\n",
    ")\n",
    "\n",
    "continuous_columns = (\n",
    "    df_dict\n",
    "    .query(\"subtipo == 'continua'\")\n",
    "    .variavel\n",
    "    .tolist()\n",
    ")\n",
    "X = df.drop(columns=[target_column], axis=1)\n",
    "y = df[target_column]"
   ]
  },
  {
   "cell_type": "markdown",
   "id": "c34c43fe-d477-4608-b8ac-a72018227dd2",
   "metadata": {
    "tags": []
   },
   "source": [
    "- Esta etapa organiza os dados para a modelagem, separando a variável-alvo das variáveis independentes e categorizando cada variável conforme seu tipo ``(nominal, ordinal, discreta, contínua)``. Isso permite aplicar pré-processamentos específicos, como **codificação** para variáveis nominais e **normalização** para variáveis contínuas, garantindo que o modelo de machine learning receba dados limpos e prontos para análise.\n",
    "- Essa etapa também é responsável por remover colunas redundantes ou que não seriam interessantes para o modelo interpretar."
   ]
  },
  {
   "cell_type": "code",
   "execution_count": 4,
   "id": "b26349eb-f611-49f7-aee1-830543b04900",
   "metadata": {
    "tags": []
   },
   "outputs": [
    {
     "name": "stdout",
     "output_type": "stream",
     "text": [
      "Número total de variáveis: 10\n"
     ]
    }
   ],
   "source": [
    "num_variables = len(df.columns)\n",
    "print(f\"Número total de variáveis: {num_variables}\")"
   ]
  },
  {
   "cell_type": "markdown",
   "id": "d2fb96e3-e705-4a2d-9abd-599b839c4176",
   "metadata": {},
   "source": [
    "---"
   ]
  },
  {
   "cell_type": "code",
   "execution_count": 5,
   "id": "68a84035-158b-422f-bb1b-baf797ab1c83",
   "metadata": {
    "tags": []
   },
   "outputs": [],
   "source": [
    "# Remover outliers na variável 'fare'\n",
    "Q1 = df['fare'].quantile(0.25)\n",
    "Q3 = df['fare'].quantile(0.75)\n",
    "IQR = Q3 - Q1\n",
    "lower_bound = Q1 - 1.5 * IQR\n",
    "upper_bound = Q3 + 1.5 * IQR\n",
    "df['fare'] = df['fare'].clip(lower=lower_bound, upper=upper_bound)\n",
    "\n",
    "\n",
    "nominal_preprocessor = Pipeline([\n",
    "    ('missing', SimpleImputer(strategy='most_frequent')),  # Tratamento de dados faltantes\n",
    "    ('encoding', OneHotEncoder(sparse_output=False, drop='first')),  # Codificação de variáveis\n",
    "    ('normalization', StandardScaler())  # Normalização de dados\n",
    "])\n",
    "continuous_preprocessor = Pipeline([\n",
    "    ('missing', SimpleImputer(strategy='mean')),  # Tratamento de dados faltantes\n",
    "    ('normalization', StandardScaler())  # Normalização de dados\n",
    "])\n",
    "ordinal_preprocessor = Pipeline([\n",
    "    ('missing', SimpleImputer(strategy='most_frequent')),  # Tratamento de dados faltantes\n",
    "    ('encoding', OrdinalEncoder())  # Codificação ordinal\n",
    "])\n",
    "discrete_preprocessor = Pipeline([\n",
    "    ('missing', SimpleImputer(strategy='most_frequent')),  # Tratamento de dados faltantes\n",
    "    ('normalization', StandardScaler())  # Normalização de dados\n",
    "])\n",
    "preprocessor = ColumnTransformer([\n",
    "    ('nominal', nominal_preprocessor, nominal_columns),\n",
    "    ('continuous', continuous_preprocessor, continuous_columns),\n",
    "    ('ordinal', ordinal_preprocessor, ordinal_columns),\n",
    "    ('discrete', discrete_preprocessor, discrete_columns)\n",
    "])\n",
    "X_preprocessed = continuous_preprocessor.fit_transform(df[continuous_columns])\n",
    "model = LogisticRegression()\n",
    "\n",
    "final_pipeline = Pipeline([\n",
    "    ('preprocessing', preprocessor),\n",
    "    ('model', model)\n",
    "])\n"
   ]
  },
  {
   "cell_type": "markdown",
   "id": "f401b985-80b1-4ec6-9454-82eaaa66d38c",
   "metadata": {},
   "source": [
    "- Este código remove outliers da variável `fare` ajustando seus valores dentro de um intervalo baseado no IQR. Em seguida, ele define pipelines para diferentes tipos de variáveis: o pipeline nominal lida com valores faltantes, faz codificação one-hot e normaliza os dados; o pipeline contínuo imputa a média e normaliza; o pipeline ordinal faz imputação e codificação ordinal; e o pipeline discreto faz imputação e normalização. Esses pipelines são combinados em um `ColumnTransformer`, que os aplica às colunas correspondentes. O pipeline final inclui esse pré-processamento e um modelo de Regressão Logística."
   ]
  },
  {
   "cell_type": "markdown",
   "id": "7ecf9a79-279b-475b-ae3a-314e27569d47",
   "metadata": {},
   "source": [
    "---"
   ]
  },
  {
   "cell_type": "markdown",
   "id": "cb314354-e265-4aad-8fb8-91ff14b664b4",
   "metadata": {
    "tags": []
   },
   "source": [
    "## 3. Seleção de Modelos"
   ]
  },
  {
   "cell_type": "markdown",
   "id": "7df573b0-4edd-4471-97a6-794924df8050",
   "metadata": {},
   "source": [
    "##### Para o conjunto de dados do Titanic, o objetivo é prever a sobrevivência dos passageiros, um problema de classificação binária. Iremos analisar quatro modelos de aprendizado de máquina que serão testados utilizando um método de validação para garantir a melhor configuração possível para cada um deles. Os modelos escolhidos são:\n",
    "\n",
    "- K-Nearest-Neighbors\n",
    "- Gradient Boosting\n",
    "- Decision Tree\n",
    "- Random Forest\n",
    "\n",
    "##### Cada um desses algoritmos será testado com diferentes hiperparâmetros, utilizando técnicas como Grid Search ou Random Search para otimização. O objetivo é encontrar o modelo que melhor se adapta ao conjunto de dados do Titanic, levando em consideração a complexidade e a capacidade preditiva.\n",
    "\n",
    "##### Utilizaremos as seguintes métricas:\n",
    "\n",
    "- **Acurácia** (Accuracy): Proporção de passageiros corretamente classificados como sobreviventes ou não sobreviventes em relação ao total de passageiros.\n",
    "- **Precisão** (Precision): Proporção de passageiros corretamente previstos como sobreviventes em relação ao total de passageiros previstos como sobreviventes..\n",
    "- **Recall**: Proporção de passageiros corretamente previstos como sobreviventes em relação ao total de passageiros que realmente sobreviveram.\n",
    "- **F1-Score**: A média harmônica entre precisão e recall, proporcionando uma métrica equilibrada que leva em conta tanto falsos positivos quanto falsos negativos."
   ]
  },
  {
   "cell_type": "code",
   "execution_count": 6,
   "id": "d7867985-64d1-45bf-8d41-3e7b7390d5e1",
   "metadata": {},
   "outputs": [],
   "source": [
    "# experiment settings\n",
    "n_splits_comparative_analysis = 10\n",
    "n_folds_grid_search = 5\n",
    "test_size = .2\n",
    "random_state = 42\n",
    "scoring = 'accuracy'\n",
    "metrics = ['accuracy', 'precision_macro', 'recall_macro', 'f1_macro']\n",
    "\n",
    "# model settings\n",
    "max_iter = 1000\n",
    "models = [\n",
    "    ('K-Nearest Neighbors', KNeighborsClassifier(), {\"n_neighbors\": range(3, 20, 2), 'weights': ['uniform', 'distance']}),\n",
    "     ('Gradient Boosting', GradientBoostingClassifier(random_state=random_state), {\n",
    "        'n_estimators': [50, 100, 150],\n",
    "        'learning_rate': [0.01, 0.1, 0.2],\n",
    "        'max_depth': [3, 5, 7]\n",
    "    }),\n",
    "    ('Decision Tree',  DecisionTreeClassifier(random_state=random_state), {'criterion':['gini','entropy'],'max_depth': [3, 6, 8]}),\n",
    "    ('Random Forest',  RandomForestClassifier(random_state=random_state), {'criterion':['gini','entropy'],'max_depth': [3, 6, 8], 'n_estimators': [10, 30]}),\n",
    "]"
   ]
  },
  {
   "cell_type": "code",
   "execution_count": 19,
   "id": "a9bf0fad-3f0d-4ec7-a30a-a99fd45f5daf",
   "metadata": {
    "tags": []
   },
   "outputs": [
    {
     "name": "stdout",
     "output_type": "stream",
     "text": [
      "running K-Nearest Neighbors...\n"
     ]
    },
    {
     "data": {
      "text/html": [
       "<div>\n",
       "<style scoped>\n",
       "    .dataframe tbody tr th:only-of-type {\n",
       "        vertical-align: middle;\n",
       "    }\n",
       "\n",
       "    .dataframe tbody tr th {\n",
       "        vertical-align: top;\n",
       "    }\n",
       "\n",
       "    .dataframe thead th {\n",
       "        text-align: right;\n",
       "    }\n",
       "</style>\n",
       "<table border=\"1\" class=\"dataframe\">\n",
       "  <thead>\n",
       "    <tr style=\"text-align: right;\">\n",
       "      <th></th>\n",
       "      <th>fit_time</th>\n",
       "      <th>score_time</th>\n",
       "      <th>test_accuracy</th>\n",
       "      <th>test_precision_macro</th>\n",
       "      <th>test_recall_macro</th>\n",
       "      <th>test_f1_macro</th>\n",
       "      <th>model_name</th>\n",
       "    </tr>\n",
       "  </thead>\n",
       "  <tbody>\n",
       "    <tr>\n",
       "      <th>mean</th>\n",
       "      <td>1.616019</td>\n",
       "      <td>0.039787</td>\n",
       "      <td>0.814525</td>\n",
       "      <td>0.810565</td>\n",
       "      <td>0.793219</td>\n",
       "      <td>0.798761</td>\n",
       "      <td>K-Nearest Neighbors</td>\n",
       "    </tr>\n",
       "    <tr>\n",
       "      <th>std</th>\n",
       "      <td>0.397508</td>\n",
       "      <td>0.008835</td>\n",
       "      <td>0.040867</td>\n",
       "      <td>0.044044</td>\n",
       "      <td>0.045827</td>\n",
       "      <td>0.045516</td>\n",
       "      <td>K-Nearest Neighbors</td>\n",
       "    </tr>\n",
       "  </tbody>\n",
       "</table>\n",
       "</div>"
      ],
      "text/plain": [
       "      fit_time  score_time  test_accuracy  test_precision_macro  \\\n",
       "mean  1.616019    0.039787       0.814525              0.810565   \n",
       "std   0.397508    0.008835       0.040867              0.044044   \n",
       "\n",
       "      test_recall_macro  test_f1_macro           model_name  \n",
       "mean           0.793219       0.798761  K-Nearest Neighbors  \n",
       "std            0.045827       0.045516  K-Nearest Neighbors  "
      ]
     },
     "metadata": {},
     "output_type": "display_data"
    },
    {
     "name": "stdout",
     "output_type": "stream",
     "text": [
      "running Gradient Boosting...\n"
     ]
    },
    {
     "data": {
      "text/html": [
       "<div>\n",
       "<style scoped>\n",
       "    .dataframe tbody tr th:only-of-type {\n",
       "        vertical-align: middle;\n",
       "    }\n",
       "\n",
       "    .dataframe tbody tr th {\n",
       "        vertical-align: top;\n",
       "    }\n",
       "\n",
       "    .dataframe thead th {\n",
       "        text-align: right;\n",
       "    }\n",
       "</style>\n",
       "<table border=\"1\" class=\"dataframe\">\n",
       "  <thead>\n",
       "    <tr style=\"text-align: right;\">\n",
       "      <th></th>\n",
       "      <th>fit_time</th>\n",
       "      <th>score_time</th>\n",
       "      <th>test_accuracy</th>\n",
       "      <th>test_precision_macro</th>\n",
       "      <th>test_recall_macro</th>\n",
       "      <th>test_f1_macro</th>\n",
       "      <th>model_name</th>\n",
       "    </tr>\n",
       "  </thead>\n",
       "  <tbody>\n",
       "    <tr>\n",
       "      <th>mean</th>\n",
       "      <td>46.402391</td>\n",
       "      <td>0.025993</td>\n",
       "      <td>0.832402</td>\n",
       "      <td>0.830733</td>\n",
       "      <td>0.812697</td>\n",
       "      <td>0.818565</td>\n",
       "      <td>Gradient Boosting</td>\n",
       "    </tr>\n",
       "    <tr>\n",
       "      <th>std</th>\n",
       "      <td>1.778310</td>\n",
       "      <td>0.006415</td>\n",
       "      <td>0.024280</td>\n",
       "      <td>0.028270</td>\n",
       "      <td>0.027969</td>\n",
       "      <td>0.027656</td>\n",
       "      <td>Gradient Boosting</td>\n",
       "    </tr>\n",
       "  </tbody>\n",
       "</table>\n",
       "</div>"
      ],
      "text/plain": [
       "       fit_time  score_time  test_accuracy  test_precision_macro  \\\n",
       "mean  46.402391    0.025993       0.832402              0.830733   \n",
       "std    1.778310    0.006415       0.024280              0.028270   \n",
       "\n",
       "      test_recall_macro  test_f1_macro         model_name  \n",
       "mean           0.812697       0.818565  Gradient Boosting  \n",
       "std            0.027969       0.027656  Gradient Boosting  "
      ]
     },
     "metadata": {},
     "output_type": "display_data"
    },
    {
     "name": "stdout",
     "output_type": "stream",
     "text": [
      "running Decision Tree...\n"
     ]
    },
    {
     "data": {
      "text/html": [
       "<div>\n",
       "<style scoped>\n",
       "    .dataframe tbody tr th:only-of-type {\n",
       "        vertical-align: middle;\n",
       "    }\n",
       "\n",
       "    .dataframe tbody tr th {\n",
       "        vertical-align: top;\n",
       "    }\n",
       "\n",
       "    .dataframe thead th {\n",
       "        text-align: right;\n",
       "    }\n",
       "</style>\n",
       "<table border=\"1\" class=\"dataframe\">\n",
       "  <thead>\n",
       "    <tr style=\"text-align: right;\">\n",
       "      <th></th>\n",
       "      <th>fit_time</th>\n",
       "      <th>score_time</th>\n",
       "      <th>test_accuracy</th>\n",
       "      <th>test_precision_macro</th>\n",
       "      <th>test_recall_macro</th>\n",
       "      <th>test_f1_macro</th>\n",
       "      <th>model_name</th>\n",
       "    </tr>\n",
       "  </thead>\n",
       "  <tbody>\n",
       "    <tr>\n",
       "      <th>mean</th>\n",
       "      <td>0.223169</td>\n",
       "      <td>0.028916</td>\n",
       "      <td>0.837430</td>\n",
       "      <td>0.833512</td>\n",
       "      <td>0.819371</td>\n",
       "      <td>0.824668</td>\n",
       "      <td>Decision Tree</td>\n",
       "    </tr>\n",
       "    <tr>\n",
       "      <th>std</th>\n",
       "      <td>0.049917</td>\n",
       "      <td>0.005707</td>\n",
       "      <td>0.026526</td>\n",
       "      <td>0.026516</td>\n",
       "      <td>0.031544</td>\n",
       "      <td>0.029792</td>\n",
       "      <td>Decision Tree</td>\n",
       "    </tr>\n",
       "  </tbody>\n",
       "</table>\n",
       "</div>"
      ],
      "text/plain": [
       "      fit_time  score_time  test_accuracy  test_precision_macro  \\\n",
       "mean  0.223169    0.028916       0.837430              0.833512   \n",
       "std   0.049917    0.005707       0.026526              0.026516   \n",
       "\n",
       "      test_recall_macro  test_f1_macro     model_name  \n",
       "mean           0.819371       0.824668  Decision Tree  \n",
       "std            0.031544       0.029792  Decision Tree  "
      ]
     },
     "metadata": {},
     "output_type": "display_data"
    },
    {
     "name": "stdout",
     "output_type": "stream",
     "text": [
      "running Random Forest...\n"
     ]
    },
    {
     "data": {
      "text/html": [
       "<div>\n",
       "<style scoped>\n",
       "    .dataframe tbody tr th:only-of-type {\n",
       "        vertical-align: middle;\n",
       "    }\n",
       "\n",
       "    .dataframe tbody tr th {\n",
       "        vertical-align: top;\n",
       "    }\n",
       "\n",
       "    .dataframe thead th {\n",
       "        text-align: right;\n",
       "    }\n",
       "</style>\n",
       "<table border=\"1\" class=\"dataframe\">\n",
       "  <thead>\n",
       "    <tr style=\"text-align: right;\">\n",
       "      <th></th>\n",
       "      <th>fit_time</th>\n",
       "      <th>score_time</th>\n",
       "      <th>test_accuracy</th>\n",
       "      <th>test_precision_macro</th>\n",
       "      <th>test_recall_macro</th>\n",
       "      <th>test_f1_macro</th>\n",
       "      <th>model_name</th>\n",
       "    </tr>\n",
       "  </thead>\n",
       "  <tbody>\n",
       "    <tr>\n",
       "      <th>mean</th>\n",
       "      <td>4.386272</td>\n",
       "      <td>0.027492</td>\n",
       "      <td>0.829050</td>\n",
       "      <td>0.829415</td>\n",
       "      <td>0.806322</td>\n",
       "      <td>0.813350</td>\n",
       "      <td>Random Forest</td>\n",
       "    </tr>\n",
       "    <tr>\n",
       "      <th>std</th>\n",
       "      <td>1.055941</td>\n",
       "      <td>0.006893</td>\n",
       "      <td>0.027646</td>\n",
       "      <td>0.028862</td>\n",
       "      <td>0.033995</td>\n",
       "      <td>0.032414</td>\n",
       "      <td>Random Forest</td>\n",
       "    </tr>\n",
       "  </tbody>\n",
       "</table>\n",
       "</div>"
      ],
      "text/plain": [
       "      fit_time  score_time  test_accuracy  test_precision_macro  \\\n",
       "mean  4.386272    0.027492       0.829050              0.829415   \n",
       "std   1.055941    0.006893       0.027646              0.028862   \n",
       "\n",
       "      test_recall_macro  test_f1_macro     model_name  \n",
       "mean           0.806322       0.813350  Random Forest  \n",
       "std            0.033995       0.032414  Random Forest  "
      ]
     },
     "metadata": {},
     "output_type": "display_data"
    }
   ],
   "source": [
    "results = pd.DataFrame({})\n",
    "cross_validate_grid_search = KFold(n_splits=n_folds_grid_search)\n",
    "cross_validate_comparative_analysis = ShuffleSplit(n_splits=n_splits_comparative_analysis, test_size=test_size, random_state=random_state)\n",
    "for model_name, model_object, model_parameters in models:\n",
    "    print(f\"running {model_name}...\")\n",
    "    model_grid_search = GridSearchCV(\n",
    "        estimator=model_object,\n",
    "        param_grid=model_parameters,\n",
    "        scoring=scoring,\n",
    "        n_jobs=-1,\n",
    "        cv=cross_validate_grid_search\n",
    "    )\n",
    "    approach = Pipeline(steps=[\n",
    "        ('preprocessor', preprocessor),\n",
    "        ('model', model_grid_search)\n",
    "    ])\n",
    "    scores = cross_validate(\n",
    "        estimator=approach,\n",
    "        X=X,\n",
    "        y=y,\n",
    "        cv=cross_validate_comparative_analysis,\n",
    "        n_jobs=-1,\n",
    "        scoring=metrics\n",
    "    )\n",
    "    scores_df = pd.DataFrame(scores)\n",
    "    aggregated_scores = scores_df.agg(['mean', 'std'])\n",
    "    aggregated_scores['model_name'] = model_name\n",
    "    display(aggregated_scores)\n",
    "    results = pd.concat([results, aggregated_scores], ignore_index=True)\n"
   ]
  },
  {
   "cell_type": "code",
   "execution_count": 21,
   "id": "3de86397-8660-4099-a419-070d7255d07f",
   "metadata": {},
   "outputs": [
    {
     "data": {
      "text/markdown": [
       "### 3.1 Resultados gerais"
      ],
      "text/plain": [
       "<IPython.core.display.Markdown object>"
      ]
     },
     "metadata": {},
     "output_type": "display_data"
    },
    {
     "data": {
      "text/html": [
       "<style type=\"text/css\">\n",
       "#T_46bde td {\n",
       "  text-align: center;\n",
       "}\n",
       "#T_46bde_row0_col0, #T_46bde_row2_col1, #T_46bde_row4_col0, #T_46bde_row6_col0, #T_46bde_row8_col0, #T_46bde_row10_col0 {\n",
       "  color: white;\n",
       "  background-color: gray;\n",
       "  font-weight: bold;\n",
       "}\n",
       "</style>\n",
       "<table id=\"T_46bde\">\n",
       "  <thead>\n",
       "    <tr>\n",
       "      <th class=\"blank\" >&nbsp;</th>\n",
       "      <th class=\"index_name level0\" >model_name</th>\n",
       "      <th id=\"T_46bde_level0_col0\" class=\"col_heading level0 col0\" >Decision Tree</th>\n",
       "      <th id=\"T_46bde_level0_col1\" class=\"col_heading level0 col1\" >Gradient Boosting</th>\n",
       "      <th id=\"T_46bde_level0_col2\" class=\"col_heading level0 col2\" >K-Nearest Neighbors</th>\n",
       "      <th id=\"T_46bde_level0_col3\" class=\"col_heading level0 col3\" >Random Forest</th>\n",
       "    </tr>\n",
       "  </thead>\n",
       "  <tbody>\n",
       "    <tr>\n",
       "      <th id=\"T_46bde_level0_row0\" class=\"row_heading level0 row0\" rowspan=\"2\">fit_time</th>\n",
       "      <th id=\"T_46bde_level1_row0\" class=\"row_heading level1 row0\" >mean</th>\n",
       "      <td id=\"T_46bde_row0_col0\" class=\"data row0 col0\" >0.136543</td>\n",
       "      <td id=\"T_46bde_row0_col1\" class=\"data row0 col1\" >24.090351</td>\n",
       "      <td id=\"T_46bde_row0_col2\" class=\"data row0 col2\" >1.006764</td>\n",
       "      <td id=\"T_46bde_row0_col3\" class=\"data row0 col3\" >2.721107</td>\n",
       "    </tr>\n",
       "    <tr>\n",
       "      <th id=\"T_46bde_level1_row1\" class=\"row_heading level1 row1\" >std</th>\n",
       "      <td id=\"T_46bde_row1_col0\" class=\"data row1 col0\" >0.122507</td>\n",
       "      <td id=\"T_46bde_row1_col1\" class=\"data row1 col1\" >31.553991</td>\n",
       "      <td id=\"T_46bde_row1_col2\" class=\"data row1 col2\" >0.861617</td>\n",
       "      <td id=\"T_46bde_row1_col3\" class=\"data row1 col3\" >2.354899</td>\n",
       "    </tr>\n",
       "    <tr>\n",
       "      <th id=\"T_46bde_level0_row2\" class=\"row_heading level0 row2\" rowspan=\"2\">score_time</th>\n",
       "      <th id=\"T_46bde_level1_row2\" class=\"row_heading level1 row2\" >mean</th>\n",
       "      <td id=\"T_46bde_row2_col0\" class=\"data row2 col0\" >0.017311</td>\n",
       "      <td id=\"T_46bde_row2_col1\" class=\"data row2 col1\" >0.016204</td>\n",
       "      <td id=\"T_46bde_row2_col2\" class=\"data row2 col2\" >0.024311</td>\n",
       "      <td id=\"T_46bde_row2_col3\" class=\"data row2 col3\" >0.017192</td>\n",
       "    </tr>\n",
       "    <tr>\n",
       "      <th id=\"T_46bde_level1_row3\" class=\"row_heading level1 row3\" >std</th>\n",
       "      <td id=\"T_46bde_row3_col0\" class=\"data row3 col0\" >0.016412</td>\n",
       "      <td id=\"T_46bde_row3_col1\" class=\"data row3 col1\" >0.013844</td>\n",
       "      <td id=\"T_46bde_row3_col2\" class=\"data row3 col2\" >0.021886</td>\n",
       "      <td id=\"T_46bde_row3_col3\" class=\"data row3 col3\" >0.014566</td>\n",
       "    </tr>\n",
       "    <tr>\n",
       "      <th id=\"T_46bde_level0_row4\" class=\"row_heading level0 row4\" rowspan=\"2\">test_accuracy</th>\n",
       "      <th id=\"T_46bde_level1_row4\" class=\"row_heading level1 row4\" >mean</th>\n",
       "      <td id=\"T_46bde_row4_col0\" class=\"data row4 col0\" >0.431978</td>\n",
       "      <td id=\"T_46bde_row4_col1\" class=\"data row4 col1\" >0.428341</td>\n",
       "      <td id=\"T_46bde_row4_col2\" class=\"data row4 col2\" >0.427696</td>\n",
       "      <td id=\"T_46bde_row4_col3\" class=\"data row4 col3\" >0.428348</td>\n",
       "    </tr>\n",
       "    <tr>\n",
       "      <th id=\"T_46bde_level1_row5\" class=\"row_heading level1 row5\" >std</th>\n",
       "      <td id=\"T_46bde_row5_col0\" class=\"data row5 col0\" >0.573396</td>\n",
       "      <td id=\"T_46bde_row5_col1\" class=\"data row5 col1\" >0.571429</td>\n",
       "      <td id=\"T_46bde_row5_col2\" class=\"data row5 col2\" >0.547059</td>\n",
       "      <td id=\"T_46bde_row5_col3\" class=\"data row5 col3\" >0.566678</td>\n",
       "    </tr>\n",
       "    <tr>\n",
       "      <th id=\"T_46bde_level0_row6\" class=\"row_heading level0 row6\" rowspan=\"2\">test_precision_macro</th>\n",
       "      <th id=\"T_46bde_level1_row6\" class=\"row_heading level1 row6\" >mean</th>\n",
       "      <td id=\"T_46bde_row6_col0\" class=\"data row6 col0\" >0.430014</td>\n",
       "      <td id=\"T_46bde_row6_col1\" class=\"data row6 col1\" >0.429501</td>\n",
       "      <td id=\"T_46bde_row6_col2\" class=\"data row6 col2\" >0.427304</td>\n",
       "      <td id=\"T_46bde_row6_col3\" class=\"data row6 col3\" >0.429139</td>\n",
       "    </tr>\n",
       "    <tr>\n",
       "      <th id=\"T_46bde_level1_row7\" class=\"row_heading level1 row7\" >std</th>\n",
       "      <td id=\"T_46bde_row7_col0\" class=\"data row7 col0\" >0.570632</td>\n",
       "      <td id=\"T_46bde_row7_col1\" class=\"data row7 col1\" >0.567427</td>\n",
       "      <td id=\"T_46bde_row7_col2\" class=\"data row7 col2\" >0.542012</td>\n",
       "      <td id=\"T_46bde_row7_col3\" class=\"data row7 col3\" >0.566076</td>\n",
       "    </tr>\n",
       "    <tr>\n",
       "      <th id=\"T_46bde_level0_row8\" class=\"row_heading level0 row8\" rowspan=\"2\">test_recall_macro</th>\n",
       "      <th id=\"T_46bde_level1_row8\" class=\"row_heading level1 row8\" >mean</th>\n",
       "      <td id=\"T_46bde_row8_col0\" class=\"data row8 col0\" >0.425457</td>\n",
       "      <td id=\"T_46bde_row8_col1\" class=\"data row8 col1\" >0.420333</td>\n",
       "      <td id=\"T_46bde_row8_col2\" class=\"data row8 col2\" >0.419523</td>\n",
       "      <td id=\"T_46bde_row8_col3\" class=\"data row8 col3\" >0.420159</td>\n",
       "    </tr>\n",
       "    <tr>\n",
       "      <th id=\"T_46bde_level1_row9\" class=\"row_heading level1 row9\" >std</th>\n",
       "      <td id=\"T_46bde_row9_col0\" class=\"data row9 col0\" >0.557077</td>\n",
       "      <td id=\"T_46bde_row9_col1\" class=\"data row9 col1\" >0.554887</td>\n",
       "      <td id=\"T_46bde_row9_col2\" class=\"data row9 col2\" >0.528486</td>\n",
       "      <td id=\"T_46bde_row9_col3\" class=\"data row9 col3\" >0.546118</td>\n",
       "    </tr>\n",
       "    <tr>\n",
       "      <th id=\"T_46bde_level0_row10\" class=\"row_heading level0 row10\" rowspan=\"2\">test_f1_macro</th>\n",
       "      <th id=\"T_46bde_level1_row10\" class=\"row_heading level1 row10\" >mean</th>\n",
       "      <td id=\"T_46bde_row10_col0\" class=\"data row10 col0\" >0.427230</td>\n",
       "      <td id=\"T_46bde_row10_col1\" class=\"data row10 col1\" >0.423111</td>\n",
       "      <td id=\"T_46bde_row10_col2\" class=\"data row10 col2\" >0.422138</td>\n",
       "      <td id=\"T_46bde_row10_col3\" class=\"data row10 col3\" >0.422882</td>\n",
       "    </tr>\n",
       "    <tr>\n",
       "      <th id=\"T_46bde_level1_row11\" class=\"row_heading level1 row11\" >std</th>\n",
       "      <td id=\"T_46bde_row11_col0\" class=\"data row11 col0\" >0.562062</td>\n",
       "      <td id=\"T_46bde_row11_col1\" class=\"data row11 col1\" >0.559258</td>\n",
       "      <td id=\"T_46bde_row11_col2\" class=\"data row11 col2\" >0.532625</td>\n",
       "      <td id=\"T_46bde_row11_col3\" class=\"data row11 col3\" >0.552205</td>\n",
       "    </tr>\n",
       "  </tbody>\n",
       "</table>\n"
      ],
      "text/plain": [
       "<pandas.io.formats.style.Styler at 0x7f96e7b5a230>"
      ]
     },
     "execution_count": 21,
     "metadata": {},
     "output_type": "execute_result"
    }
   ],
   "source": [
    "def highlight_best(s, props=''):\n",
    "    if s.name[1] != 'std':\n",
    "        if s.name[0].endswith('time'):\n",
    "            return np.where(s == np.nanmin(s.values), props, '')\n",
    "        return np.where(s == np.nanmax(s.values), props, '')\n",
    "\n",
    "display(Markdown(\"### 3.1 Resultados gerais\"))\n",
    "(\n",
    "    results\n",
    "    .groupby('model_name')\n",
    "    .agg(['mean', 'std']).T\n",
    "    .style\n",
    "    .apply(highlight_best, props='color:white;background-color:gray;font-weight: bold;', axis=1)\n",
    "    .set_table_styles([{'selector': 'td', 'props': 'text-align: center;'}])\n",
    ")"
   ]
  },
  {
   "cell_type": "markdown",
   "id": "7877b9a9-d8f1-4d4a-90a6-8b56227e0fb1",
   "metadata": {},
   "source": [
    "Como pode ser visto, o classificador `Decision Tree` obteve melhores resultados para praticamente todas as métricas, portanto, podemos obter os melhores parâmetros deste modelo e salvá-lo em disco para utilização em uma próxima etapa."
   ]
  },
  {
   "cell_type": "code",
   "execution_count": 22,
   "id": "02b246d2-605e-40fd-b3bd-3f8eedb996c1",
   "metadata": {
    "tags": []
   },
   "outputs": [
    {
     "name": "stdout",
     "output_type": "stream",
     "text": [
      "Hiperparâmetros do modelo: {'criterion': 'entropy', 'max_depth': 3}\n"
     ]
    }
   ],
   "source": [
    "# Obtém o modelo e os parâmetros para a Árvore de Decisão\n",
    "model_name, model_object, model_parameters = [foo for foo in models if foo[0] == \"Decision Tree\"][0]\n",
    "\n",
    "# Configura o GridSearchCV para o modelo de Árvore de Decisão\n",
    "model_grid_search = GridSearchCV(\n",
    "    estimator=model_object,\n",
    "    param_grid=model_parameters,\n",
    "    scoring=scoring,\n",
    "    n_jobs=-1,\n",
    "    cv=cross_validate_grid_search\n",
    ")\n",
    "\n",
    "# Cria o pipeline com o pré-processador e o modelo\n",
    "approach = Pipeline([\n",
    "    (\"preprocessor\", preprocessor),\n",
    "    (\"model\", model_grid_search)\n",
    "])\n",
    "\n",
    "# Ajusta o pipeline aos dados\n",
    "approach.fit(X, y)  # Seleciona o melhor modelo\n",
    "\n",
    "# Imprime os hiperparâmetros do modelo que obtiveram o melhor desempenho\n",
    "print(f\"Hiperparâmetros do modelo: {approach.steps[1][1].best_params_}\")\n"
   ]
  },
  {
   "cell_type": "code",
   "execution_count": 23,
   "id": "4f852d33-259a-49eb-ba07-6f2c3488e292",
   "metadata": {
    "tags": []
   },
   "outputs": [
    {
     "data": {
      "text/plain": [
       "['../models/model.joblib']"
      ]
     },
     "execution_count": 23,
     "metadata": {},
     "output_type": "execute_result"
    }
   ],
   "source": [
    "joblib.dump(approach, '../models/model.joblib') # Salva o modelo em disco"
   ]
  },
  {
   "cell_type": "code",
   "execution_count": null,
   "id": "f6ec2ea4-09c3-430a-91b4-37169cb096e5",
   "metadata": {},
   "outputs": [],
   "source": []
  }
 ],
 "metadata": {
  "kernelspec": {
   "display_name": "Python 3 (ipykernel)",
   "language": "python",
   "name": "python3"
  },
  "language_info": {
   "codemirror_mode": {
    "name": "ipython",
    "version": 3
   },
   "file_extension": ".py",
   "mimetype": "text/x-python",
   "name": "python",
   "nbconvert_exporter": "python",
   "pygments_lexer": "ipython3",
   "version": "3.10.11"
  }
 },
 "nbformat": 4,
 "nbformat_minor": 5
}
